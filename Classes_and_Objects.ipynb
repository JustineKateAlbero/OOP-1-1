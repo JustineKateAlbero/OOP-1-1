{
  "nbformat": 4,
  "nbformat_minor": 0,
  "metadata": {
    "colab": {
      "name": "Classes and Objects ",
      "provenance": [],
      "collapsed_sections": [],
      "authorship_tag": "ABX9TyNehW4R3Ogs3S8R2acKh/Kl",
      "include_colab_link": true
    },
    "kernelspec": {
      "name": "python3",
      "display_name": "Python 3"
    },
    "language_info": {
      "name": "python"
    }
  },
  "cells": [
    {
      "cell_type": "markdown",
      "metadata": {
        "id": "view-in-github",
        "colab_type": "text"
      },
      "source": [
        "<a href=\"https://colab.research.google.com/github/JustineKateAlbero/OOP-1-1/blob/main/Classes_and_Objects.ipynb\" target=\"_parent\"><img src=\"https://colab.research.google.com/assets/colab-badge.svg\" alt=\"Open In Colab\"/></a>"
      ]
    },
    {
      "cell_type": "markdown",
      "source": [
        "Application 2 - Write a python program that displays the full name of student,student number, age, course, and school. Create a class name OOP_1_1 and create Info() method to display the information of a student with fullname, student_no, age, course, school as attributes."
      ],
      "metadata": {
        "id": "mG1jKJLL54D8"
      }
    },
    {
      "cell_type": "code",
      "source": [
        "class OOP_1_1:\n",
        "  def __init__(self,fullname,student_no,age,course,school):\n",
        "    self.fullname = fullname\n",
        "    self.student_no = student_no\n",
        "    self.age = age\n",
        "    self.course = course\n",
        "    self.school = school\n",
        "\n",
        "  def Info(self):\n",
        "    print(\"My Name is\", self.fullname,\".\")\n",
        "    print(\"My Student number is\", self.student_no,\".\")\n",
        "    print(\"My Age is\", self.age,\".\")\n",
        "    print(\"My Course is\", self.course,\".\")\n",
        "    print(\"My School is\", self.school,\".\")\n",
        "\n",
        "student = OOP_1_1(\"Justine Kate Albero\",202101555,19,\"BS Computer Engineering\",\"Cavite State University\")\n",
        "student.Info()"
      ],
      "metadata": {
        "colab": {
          "base_uri": "https://localhost:8080/"
        },
        "id": "iTK_azK26tj-",
        "outputId": "2e28d34a-8442-4ed6-f7c7-ce31ff3fc8ec"
      },
      "execution_count": 57,
      "outputs": [
        {
          "output_type": "stream",
          "name": "stdout",
          "text": [
            "My Name is Justine Kate Albero .\n",
            "My Student number is 202101555 .\n",
            "My Age is 19 .\n",
            "My Course is BS Computer Engineering .\n",
            "My School is Cavite State University .\n"
          ]
        }
      ]
    },
    {
      "cell_type": "markdown",
      "source": [
        "Application 3 - Define an Area() method of the class Circle that calculates the circle's area. Define a Perimeter() method of the class which allows you to calculate the perimeter of the circle."
      ],
      "metadata": {
        "id": "8XAc73Ig-uVM"
      }
    },
    {
      "cell_type": "code",
      "source": [
        "class Circle:\n",
        "  def __init__(self,radius):\n",
        "    self.radius = radius\n",
        "\n",
        "#formula of the perimeter of the circle: 2πr  \n",
        "#formula of the area of the circle: A = πr²\n",
        "#Value of π is appoximately equal to 3.14\n",
        "\n",
        "#To calculate the Area of the circle\n",
        "  def Area(self):             \n",
        "    print(\"The area of the circle is:\" + \" \", + self.radius**2*3.14)\n",
        "\n",
        "#To calculate the Perimeter of the circle\n",
        "  def Perimeter(self):        \n",
        "    print(\"The perimeter of the circle is:\" + \" \", + self.radius*2*3.14)\n",
        "  \n",
        "Radius = int(input(\"Enter the radius of the circle:\"))\n",
        "circle = Circle (Radius)\n",
        "circle.Area()\n",
        "circle.Perimeter()\n"
      ],
      "metadata": {
        "colab": {
          "base_uri": "https://localhost:8080/"
        },
        "id": "kiVPckLQ_zwD",
        "outputId": "45577e1a-ab46-4638-de16-08fd157650e5"
      },
      "execution_count": 58,
      "outputs": [
        {
          "output_type": "stream",
          "name": "stdout",
          "text": [
            "Enter the radius of the circle:12\n",
            "The area of the circle is:  452.16\n",
            "The perimeter of the circle is:  75.36\n"
          ]
        }
      ]
    }
  ]
}