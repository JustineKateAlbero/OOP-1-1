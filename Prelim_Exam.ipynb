{
  "nbformat": 4,
  "nbformat_minor": 0,
  "metadata": {
    "colab": {
      "name": "Prelim Exam",
      "provenance": [],
      "authorship_tag": "ABX9TyOgtxtObFFaIrn1E5N9yyNb",
      "include_colab_link": true
    },
    "kernelspec": {
      "name": "python3",
      "display_name": "Python 3"
    },
    "language_info": {
      "name": "python"
    }
  },
  "cells": [
    {
      "cell_type": "markdown",
      "metadata": {
        "id": "view-in-github",
        "colab_type": "text"
      },
      "source": [
        "<a href=\"https://colab.research.google.com/github/JustineKateAlbero/OOP-1-1/blob/main/Prelim_Exam.ipynb\" target=\"_parent\"><img src=\"https://colab.research.google.com/assets/colab-badge.svg\" alt=\"Open In Colab\"/></a>"
      ]
    },
    {
      "cell_type": "code",
      "execution_count": 1,
      "metadata": {
        "colab": {
          "base_uri": "https://localhost:8080/"
        },
        "id": "SF4ry-6YLamY",
        "outputId": "cb35739f-a66d-427e-a465-caac546b7fe6"
      },
      "outputs": [
        {
          "output_type": "stream",
          "name": "stdout",
          "text": [
            "Fullname:  Justine Kate Palen Albero\n",
            "Student Number:  202101555\n",
            "Age:  19\n",
            "School:  Cavite State University - Indang\n",
            "Course:  BS Computer Engineering\n"
          ]
        }
      ],
      "source": [
        "#Problem 2\n",
        "\n",
        "class Student:\n",
        "  def __init__(self,Name,Student_No,Age,School,Course):\n",
        "    self.Name = Name\n",
        "    self.Student_No = Student_No\n",
        "    self.Age = Age\n",
        "    self.School = School\n",
        "    self.Course = Course\n",
        "  \n",
        "  def Info(self):\n",
        "    print(\"Fullname: \",self.Name)\n",
        "    print(\"Student Number: \",self.Student_No)\n",
        "    print(\"Age: \",self.Age)\n",
        "    print(\"School: \",self.School)\n",
        "    print(\"Course: \",self.Course)\n",
        "\n",
        "Myself = Student(\"Justine Kate Palen Albero\",202101555,19,\"Cavite State University - Indang\",\"BS Computer Engineering\")\n",
        "Myself.Info()"
      ]
    }
  ]
}