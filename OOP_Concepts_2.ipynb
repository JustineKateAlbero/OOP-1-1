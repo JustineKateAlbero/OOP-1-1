{
  "nbformat": 4,
  "nbformat_minor": 0,
  "metadata": {
    "colab": {
      "name": "OOP Concepts 2",
      "provenance": [],
      "collapsed_sections": [],
      "authorship_tag": "ABX9TyPMPeOextDK1m+yG2Hi3J0r",
      "include_colab_link": true
    },
    "kernelspec": {
      "name": "python3",
      "display_name": "Python 3"
    },
    "language_info": {
      "name": "python"
    }
  },
  "cells": [
    {
      "cell_type": "markdown",
      "metadata": {
        "id": "view-in-github",
        "colab_type": "text"
      },
      "source": [
        "<a href=\"https://colab.research.google.com/github/JustineKateAlbero/OOP-1-1/blob/main/OOP_Concepts_2.ipynb\" target=\"_parent\"><img src=\"https://colab.research.google.com/assets/colab-badge.svg\" alt=\"Open In Colab\"/></a>"
      ]
    },
    {
      "cell_type": "markdown",
      "source": [
        "Classes with Multiple Objects"
      ],
      "metadata": {
        "id": "GnutOQgHMWrD"
      }
    },
    {
      "cell_type": "code",
      "source": [
        "class Birds:\n",
        "  def __init__(self,birds_name):\n",
        "    self.birds_name = birds_name\n",
        "  def flying_birds(self):\n",
        "    print(f\"{self.birds_name} flies above the sky\")\n",
        "  def non_flying_birds(self):\n",
        "    print(f\"{self.birds_name} is the national bird of Australia\")\n",
        "\n",
        "vulture = Birds(\"Griffon Vulture\")\n",
        "crane = Birds(\"Common Crane\")\n",
        "emu = Birds(\"Emu\")\n",
        "\n",
        "vulture.flying_birds()\n",
        "crane.flying_birds()\n",
        "emu.non_flying_birds()\n"
      ],
      "metadata": {
        "colab": {
          "base_uri": "https://localhost:8080/"
        },
        "id": "k43t0Uz7MckK",
        "outputId": "b473a4cb-56c4-4349-dc3f-2fe8506a5f1a"
      },
      "execution_count": null,
      "outputs": [
        {
          "output_type": "stream",
          "name": "stdout",
          "text": [
            "Griffon Vulture flies above the sky\n",
            "Common Crane flies above the sky\n",
            "Emu is the national bird of Australia\n"
          ]
        }
      ]
    },
    {
      "cell_type": "markdown",
      "source": [
        "Encapsulation (mangling with double underscore)"
      ],
      "metadata": {
        "id": "eAXWk2IMQuRg"
      }
    },
    {
      "cell_type": "code",
      "source": [
        "#Example 1\n",
        "class foo:\n",
        "  def __init__(self,a,b):\n",
        "    self.a = a\n",
        "    self.b = b\n",
        "\n",
        "  def add(self):\n",
        "    return self.a+self.b\n",
        "  \n",
        "object_foo = foo(3,4)\n",
        "object_foo.add()"
      ],
      "metadata": {
        "colab": {
          "base_uri": "https://localhost:8080/"
        },
        "id": "tt9y2U5ZRMlH",
        "outputId": "b5e0e0da-2cad-4365-b0b7-247280aa4f6a"
      },
      "execution_count": null,
      "outputs": [
        {
          "output_type": "execute_result",
          "data": {
            "text/plain": [
              "7"
            ]
          },
          "metadata": {},
          "execution_count": 11
        }
      ]
    },
    {
      "cell_type": "code",
      "source": [
        "#Example 2\n",
        "class foo:\n",
        "  def __init__(self,a,b):\n",
        "    self.__a = a\n",
        "    self.__b = b\n",
        "\n",
        "  def add(self):\n",
        "    return self.__a+self.__b\n",
        "  \n",
        "object_foo = foo(3,4)\n",
        "object_foo.add()\n",
        "\n",
        "object_foo.__a=6\n",
        "object_foo.__b=7\n",
        "object_foo.add()"
      ],
      "metadata": {
        "colab": {
          "base_uri": "https://localhost:8080/"
        },
        "id": "9rUbAIM9PMB9",
        "outputId": "96053b52-1819-446e-beca-c723c2d83734"
      },
      "execution_count": null,
      "outputs": [
        {
          "output_type": "execute_result",
          "data": {
            "text/plain": [
              "7"
            ]
          },
          "metadata": {},
          "execution_count": 10
        }
      ]
    },
    {
      "cell_type": "code",
      "source": [
        "class Counter:\n",
        "  def __init__(self):\n",
        "    self.__current = 0\n",
        "  def increment(self):\n",
        "    self.__current+=1\n",
        "  def value(self):\n",
        "    return self.__current\n",
        "  def reset(self):\n",
        "    self.__current = 0\n",
        "\n",
        "number = Counter()\n",
        "number.__current = 1\n",
        "\n",
        "number.increment()\n",
        "number.increment()\n",
        "number.increment()\n",
        "#number.__current = 1\n",
        "\n",
        "\n",
        "print(number.value())"
      ],
      "metadata": {
        "colab": {
          "base_uri": "https://localhost:8080/"
        },
        "id": "Rr1DLsQdRtKp",
        "outputId": "82914eee-3b57-46f8-e39e-971263e2cdfc"
      },
      "execution_count": null,
      "outputs": [
        {
          "output_type": "stream",
          "name": "stdout",
          "text": [
            "3\n"
          ]
        }
      ]
    },
    {
      "cell_type": "markdown",
      "source": [
        "Inheritance "
      ],
      "metadata": {
        "id": "kNlJ000EUxoM"
      }
    },
    {
      "cell_type": "code",
      "source": [
        "class Person:\n",
        "  def __init__(self,firstname,surname):\n",
        "    self.firstname = firstname\n",
        "    self.surname = surname\n",
        "  \n",
        "  def fullname(self):\n",
        "    print(self.firstname,self.surname)\n",
        "  \n",
        "person = Person(\"Justine Kate\", \"Albero\")\n",
        "person.fullname()\n",
        "\n",
        "\n",
        "class Teacher(Person):\n",
        "  pass\n",
        "\n",
        "person2 = Teacher(\"Justine\", \"Albero\")\n",
        "person2.fullname()\n",
        "\n",
        "\n",
        "class Student(Person):\n",
        "  pass\n",
        "\n",
        "person3 = Teacher(\"Kate\", \"Albero\")\n",
        "person3.fullname()"
      ],
      "metadata": {
        "colab": {
          "base_uri": "https://localhost:8080/"
        },
        "id": "KTKFSDmgU-pJ",
        "outputId": "db21216c-ae07-4746-e309-45f2e592de5b"
      },
      "execution_count": null,
      "outputs": [
        {
          "output_type": "stream",
          "name": "stdout",
          "text": [
            "Justine Kate Albero\n",
            "Justine Albero\n",
            "Kate Albero\n"
          ]
        }
      ]
    },
    {
      "cell_type": "markdown",
      "source": [
        "Polymorphism"
      ],
      "metadata": {
        "id": "Yf1iKy5AXagv"
      }
    },
    {
      "cell_type": "code",
      "source": [
        "class RegularPolygon:\n",
        "  def __init__(self,side):\n",
        "    self.side = side\n",
        "\n",
        "class Square(RegularPolygon):\n",
        "  def area(self):\n",
        "    return self.side*self.side\n",
        "\n",
        "class EquilateralTriangle(RegularPolygon):\n",
        "  def area(self):\n",
        "    return self.side*self.side*0.433\n",
        "\n",
        "obj1 = Square(4)\n",
        "print(obj1.area())\n",
        "\n",
        "obj2 = EquilateralTriangle(3)\n",
        "print(obj2.area())"
      ],
      "metadata": {
        "colab": {
          "base_uri": "https://localhost:8080/"
        },
        "id": "6qIzYgTLXdRE",
        "outputId": "f95dda7b-bfbe-43cb-d81d-77b305b81cf0"
      },
      "execution_count": null,
      "outputs": [
        {
          "output_type": "stream",
          "name": "stdout",
          "text": [
            "16\n",
            "3.897\n"
          ]
        }
      ]
    },
    {
      "cell_type": "code",
      "source": [
        "#Practice with input function (not included in the Application 1)\n",
        "a=\"Student's Term Grade\"\n",
        "print(a, \"\\n\")\n",
        "\n",
        "class Person:\n",
        "  def __init__(self, Pre, Mid, Fin):\n",
        "    self.Pre = Pre\n",
        "    self.Mid = Mid\n",
        "    self.Fin = Fin\n",
        "  def Grades(self):\n",
        "      return(self.Pre + self.Mid + self.Fin)/3\n",
        "class Student(Person):\n",
        "  def __init__(self,std1,std2,std3):\n",
        "    self.std1 = std1\n",
        "    self.std2 = std2\n",
        "    self.std3 = std3\n",
        "  def Std1(self):\n",
        "    return self.std1\n",
        "  def Std2(self):\n",
        "    return self.std2\n",
        "  def Std3(self):\n",
        "    return self.std3\n",
        "\n",
        "\n",
        "\n",
        "Prelim_1 = float(input(\"Student 1 Prelim Grade: \"))\n",
        "Midterm_1 = float (input(\"Student 1 Midterm Grade: \"))\n",
        "Finals_1 = float(input(\"Student 1 Finals Grade: \"))\n",
        "Average_1 = Person(Prelim_1, Midterm_1, Finals_1)\n",
        "Average_1.Grades()\n",
        "Prelim_2= float(input(\"Student 2 Prelim Grade: \"))\n",
        "Midterm_2 = float(input(\"Student 2 Midterm Grade: \"))\n",
        "Finals_2 = float(input(\"Student 2 Finals Grade: \"))\n",
        "Average_2 = Person(Prelim_2, Midterm_2, Finals_2)\n",
        "Average_2.Grades ()\n",
        "Prelim_3 = float(input(\"Student 3 Prelim Grade: \"))\n",
        "Midterm_3 = float(input(\"Student 3 Midterm Grade: \"))\n",
        "Finals_3 = float(input(\"S1tudent 3 Finals Grade: \"))\n",
        "Average_3 = Person(Prelim_3,Midterm_3,Finals_3)\n",
        "Average_3.Grades()\n",
        "\n",
        "\n",
        "student1 = Student(\"Student 1\",\"\",\"\")\n",
        "student2 = Student(\"\",\"Student 2\",\"\")\n",
        "student3 = Student(\"\",\"\",\"Student 3\")\n",
        "student1.Std1()\n",
        "student2.Std2()\n",
        "student3.Std3()\n",
        "\n",
        "\n",
        "print(\"\\n\")\n",
        "print(\"Grades Breakdown\", \"\\n\")\n",
        "print(\"\\t\", \"\\t\",\"\\t\", \"\\t\",\"\\t\",\"Grading Periods\",\"\\n\")\n",
        "print(\"Student Number\", \"\\t\", \"\\t\", \"Prelims\",\"\\t\", \"Midterm\", \"\\t\", \"Finals\", \"\\t\",\"Average Grade\")\n",
        "print(student1.Std1(),\"\\t\",\"\\t\", Prelim_1, \"\\t\", \"\\t\", Midterm_1, \"\\t\",\"\\t\", Finals_1, \"\\t\",\"\\t\", Average_1.Grades ())\n",
        "print(student2.Std2(),\"\\t\",\"\\t\", Prelim_2, \"\\t\", \"\\t\", Midterm_2, \"\\t\",\"\\t\", Finals_2, \"\\t\",\"\\t\", Average_2.Grades())\n",
        "print(student3.Std3(),\"\\t\",\"\\t\", Prelim_3, \"\\t\", \"\\t\", Midterm_3, \"\\t\",\"\\t\", Finals_3, \"\\t\",\"\\t\", Average_3.Grades ())\n",
        "\n",
        "\n",
        "print()\n",
        "print(\"Average Grade\",\"\\n\")\n",
        "print(student1.Std1(),\":   {:.2f}\".format(Average_1.Grades ()))\n",
        "print(student2.Std2(),\":   {:.2f}\". format(Average_2.Grades()))\n",
        "print(student3.Std3(),\":   {:.2f}\".format(Average_3.Grades ()))"
      ],
      "metadata": {
        "colab": {
          "base_uri": "https://localhost:8080/"
        },
        "id": "y5RZY6JyqixE",
        "outputId": "0c4d9477-d0e5-4699-f150-bdced78a6202"
      },
      "execution_count": 7,
      "outputs": [
        {
          "output_type": "stream",
          "name": "stdout",
          "text": [
            "Student's Term Grade \n",
            "\n",
            "Student 1 Prelim Grade: 1.00\n",
            "Student 1 Midterm Grade: 2.00\n",
            "Student 1 Finals Grade: 1.50\n",
            "Student 2 Prelim Grade: 1.25\n",
            "Student 2 Midterm Grade: 2.00\n",
            "Student 2 Finals Grade: 1.75\n",
            "Student 3 Prelim Grade: 2.00\n",
            "Student 3 Midterm Grade: 2.25\n",
            "S1tudent 3 Finals Grade: 1.50\n",
            "\n",
            "\n",
            "Grades Breakdown \n",
            "\n",
            "\t \t \t \t \t Grading Periods \n",
            "\n",
            "Student Number \t \t Prelims \t Midterm \t Finals \t Average Grade\n",
            "Student 1 \t \t 1.0 \t \t 2.0 \t \t 1.5 \t \t 1.5\n",
            "Student 2 \t \t 1.25 \t \t 2.0 \t \t 1.75 \t \t 1.6666666666666667\n",
            "Student 3 \t \t 2.0 \t \t 2.25 \t \t 1.5 \t \t 1.9166666666666667\n",
            "\n",
            "Average Grade \n",
            "\n",
            "Student 1 :   1.50\n",
            "Student 2 :   1.67\n",
            "Student 3 :   1.92\n"
          ]
        }
      ]
    },
    {
      "cell_type": "markdown",
      "source": [
        "**Application 1**   \n",
        "1. Create a Python program that displays the name of three students (Student 1, Student 2, and Student 3)\n",
        "2. Create a class name Person and attributes - std1, std2, pre,mid,fin\n",
        "3. Compute the average of each term grade using Grade() method\n",
        "4. Information about student's grades must be hidden from others\n"
      ],
      "metadata": {
        "id": "K9P_VQskYwUc"
      }
    },
    {
      "cell_type": "code",
      "source": [
        "a=\"Student's Average Grade\"\n",
        "print(\"\\033[1m\", a, \"\\n\",\"\\033[0m\")\n",
        "\n",
        "class Person:\n",
        "  def __init__(self, Pre, Mid, Fin):\n",
        "    self.__Pre = Pre\n",
        "    self.__Mid = Mid\n",
        "    self.__Fin = Fin\n",
        "  def Grades(self):\n",
        "      return(self.__Pre + self.__Mid + self.__Fin)/3\n",
        "\n",
        "class Student(Person):\n",
        "  def __init__(self,std1,std2,std3):\n",
        "    self.__std1 = std1\n",
        "    self.__std2 = std2\n",
        "    self.__std3 = std3\n",
        "  def Std1(self):\n",
        "    print(f\"{self.__std1} Student 1\")\n",
        "  def Std2(self):\n",
        "    print(f\"{self.__std2} Student 2\")\n",
        "  def Std3(self):\n",
        "    print(f\"{self.__std3} Student 3\")\n",
        "\n",
        "Average_1 = Person(1.25,2.50,1.50)\n",
        "Average_2 = Person(1.75,2.00,2.75)\n",
        "Average_3 = Person(2.00,3.25,4.50)\n",
        "\n",
        "student1.Std1()\n",
        "student2.Std2()\n",
        "student3.Std3()\n",
        "\n",
        "print(\"\\t\", student1.Std1(),\":   {:.2f}\".format(Average_1.Grades ()))\n",
        "print(\"\\t\", student2.Std2(),\":   {:.2f}\". format(Average_2.Grades()))\n",
        "print(\"\\t\", student3.Std3(),\":   {:.2f}\".format(Average_3.Grades ()))"
      ],
      "metadata": {
        "colab": {
          "base_uri": "https://localhost:8080/"
        },
        "id": "zf7p2tdxiMGS",
        "outputId": "4e5810df-89f2-46b7-f96e-ad905f16dcfa"
      },
      "execution_count": 6,
      "outputs": [
        {
          "output_type": "stream",
          "name": "stdout",
          "text": [
            "\u001b[1m Student's Average Grade \n",
            " \u001b[0m\n",
            "\t Student 1 :   1.75\n",
            "\t Student 2 :   2.17\n",
            "\t Student 3 :   3.25\n"
          ]
        }
      ]
    }
  ]
}