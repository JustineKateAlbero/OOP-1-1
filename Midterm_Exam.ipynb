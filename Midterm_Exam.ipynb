{
  "nbformat": 4,
  "nbformat_minor": 0,
  "metadata": {
    "colab": {
      "name": "Midterm Exam",
      "provenance": [],
      "authorship_tag": "ABX9TyMLOl5nTLYvtSnzotsunQAg",
      "include_colab_link": true
    },
    "kernelspec": {
      "name": "python3",
      "display_name": "Python 3"
    },
    "language_info": {
      "name": "python"
    }
  },
  "cells": [
    {
      "cell_type": "markdown",
      "metadata": {
        "id": "view-in-github",
        "colab_type": "text"
      },
      "source": [
        "<a href=\"https://colab.research.google.com/github/JustineKateAlbero/OOP-1-1/blob/main/Midterm_Exam.ipynb\" target=\"_parent\"><img src=\"https://colab.research.google.com/assets/colab-badge.svg\" alt=\"Open In Colab\"/></a>"
      ]
    },
    {
      "cell_type": "code",
      "execution_count": 27,
      "metadata": {
        "colab": {
          "base_uri": "https://localhost:8080/"
        },
        "id": "3mvqCzCBJFH8",
        "outputId": "c9e6bd88-7194-4782-8d90-945ecc894014"
      },
      "outputs": [
        {
          "output_type": "stream",
          "name": "stdout",
          "text": [
            "\u001b[1m TEMPERATURE CONVERTER \n",
            " \u001b[0m\n",
            "Enter the temperature in Celsius: 25\n",
            "\t 298.15 Kelvin\n",
            "\t 77.0 Fahrenheit\n",
            "Enter the temperature in Fahrenheit: 25\n",
            "\t -3.89 Celsius\n",
            "Enter the temperature in Kelvin: 25\n",
            "\t -248.15 Celsius\n"
          ]
        }
      ],
      "source": [
        "a = \"TEMPERATURE CONVERTER\"\n",
        "print(\"\\033[1m\", a, \"\\n\",\"\\033[0m\")\n",
        "\n",
        "def main():\n",
        "  class TemperatureConversion:\n",
        "    def __init__(self, temp=1):\n",
        "      self._temp = temp\n",
        "  class CelsiusToFahrenheit(TemperatureConversion):\n",
        "    def conversion(self):\n",
        "      return (self._temp * 9) / 5 + 32\n",
        "  class FahrenheitToCelsius(TemperatureConversion):\n",
        "    def conversion1(self):\n",
        "      return (self._temp - 32) * 5/9\n",
        "  class CelsiusToKelvin(TemperatureConversion):\n",
        "    def conversion(self):\n",
        "      return self._temp + 273.15\n",
        "  class KelvinToCelsius(TemperatureConversion):\n",
        "    def conversion2(self):\n",
        "      return self._temp - 273.15\n",
        "\n",
        "  tempInCelsius = float(input(\"Enter the temperature in Celsius: \"))\n",
        "  convert = CelsiusToKelvin(tempInCelsius)\n",
        "  print(\"\\t\", str(round(convert.conversion(),2)) + \" Kelvin\")\n",
        "  convert = CelsiusToFahrenheit(tempInCelsius)\n",
        "  print(\"\\t\", str(round(convert.conversion(),2)) + \" Fahrenheit\")\n",
        "  tempInFahrenheit = float(input(\"Enter the temperature in Fahrenheit: \"))\n",
        "  convert = FahrenheitToCelsius(tempInFahrenheit)\n",
        "  print(\"\\t\", str(round(convert.conversion1(),2)) + \" Celsius\")\n",
        "  tempInKelvin = float(input(\"Enter the temperature in Kelvin: \"))\n",
        "  convert = KelvinToCelsius(tempInKelvin)\n",
        "  print(\"\\t\", str(round(convert.conversion22(),2)) + \" Celsius\")\n",
        "\n",
        "main()\n"
      ]
    }
  ]
}