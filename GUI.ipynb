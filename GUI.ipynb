{
  "nbformat": 4,
  "nbformat_minor": 0,
  "metadata": {
    "colab": {
      "name": "GUI",
      "provenance": [],
      "authorship_tag": "ABX9TyM7WinGTJ2dVwSK48DFED6+",
      "include_colab_link": true
    },
    "kernelspec": {
      "name": "python3",
      "display_name": "Python 3"
    },
    "language_info": {
      "name": "python"
    }
  },
  "cells": [
    {
      "cell_type": "markdown",
      "metadata": {
        "id": "view-in-github",
        "colab_type": "text"
      },
      "source": [
        "<a href=\"https://colab.research.google.com/github/JustineKateAlbero/OOP-1-1/blob/main/GUI.ipynb\" target=\"_parent\"><img src=\"https://colab.research.google.com/assets/colab-badge.svg\" alt=\"Open In Colab\"/></a>"
      ]
    },
    {
      "cell_type": "code",
      "execution_count": 33,
      "metadata": {
        "id": "mlyVUWoxvVN6",
        "outputId": "0cda5784-3459-40d6-a5cc-1aa3175985e9",
        "colab": {
          "base_uri": "https://localhost:8080/"
        }
      },
      "outputs": [
        {
          "output_type": "stream",
          "name": "stdout",
          "text": [
            "My prelim grade is 10\n",
            "My midterm grade is 20\n",
            "My final grade is 30\n",
            "My semestral grade is 20.0\n",
            "My birthdate is2022-04-07\n"
          ]
        }
      ],
      "source": [
        "#@title Students' Grade in OOP\n",
        "variable_name = \"Justine Kate P. Albero\"#@param {type:\"string\"}\n",
        "prelim = 10 #@param {type:\"integer\"} \n",
        "midterm =  20#@param {type:\"integer\"} \n",
        "final =  30#@param {type:\"integer\"} \n",
        "semestral_grade = round((prelim + midterm + final)/3,2)\n",
        "\n",
        "print(\"My prelim grade is \" + str(prelim))\n",
        "print(\"My midterm grade is \" + str(midterm))\n",
        "print(\"My final grade is \" + str(final))\n",
        "\n",
        "print(\"My semestral grade is \" + str(semestral_grade))\n",
        "\n",
        "Gender = \"Female\" #@param{\"Male\",\"Female\"}\n",
        "BirthDate = '2022-04-07' #@param {type: \"date\"}\n",
        "\n",
        "print(\"My birthdate is \" + BirthDate)"
      ]
    },
    {
      "cell_type": "code",
      "source": [
        "#@title Students' Grade in OOP\n",
        "variable_name = \"Justine Kate P. Albero\"#@param {type:\"string\"}\n",
        "prelim = 10 #@param {type:\"integer\"} \n",
        "midterm =  20#@param {type:\"integer\"} \n",
        "final =  30#@param {type:\"integer\"} \n",
        "semestral_grade = (prelim + midterm + final)/3\n",
        "\n",
        "print(\"My prelim grade is \" + str(prelim))\n",
        "print(\"My midterm grade is \" + str(midterm))\n",
        "print(\"My final grade is \" + str(final))\n",
        "\n",
        "print(\"My semestral grade is \" , round(semestral_grade),2)"
      ],
      "metadata": {
        "colab": {
          "base_uri": "https://localhost:8080/"
        },
        "id": "1fctwjyT5noF",
        "outputId": "e5bd168a-3298-4a64-bfd9-e5622d4d808e"
      },
      "execution_count": 32,
      "outputs": [
        {
          "output_type": "stream",
          "name": "stdout",
          "text": [
            "My prelim grade is 10\n",
            "My midterm grade is 20\n",
            "My final grade is 30\n",
            "My semestral grade is  20 2\n"
          ]
        }
      ]
    },
    {
      "cell_type": "markdown",
      "source": [
        "Tkinter module - pycharm"
      ],
      "metadata": {
        "id": "tjR1zMxK6ZqY"
      }
    }
  ]
}