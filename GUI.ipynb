{
  "nbformat": 4,
  "nbformat_minor": 0,
  "metadata": {
    "colab": {
      "name": "GUI",
      "provenance": [],
      "authorship_tag": "ABX9TyMrp4MqNOoRA+lVjl9yUCEM",
      "include_colab_link": true
    },
    "kernelspec": {
      "name": "python3",
      "display_name": "Python 3"
    },
    "language_info": {
      "name": "python"
    }
  },
  "cells": [
    {
      "cell_type": "markdown",
      "metadata": {
        "id": "view-in-github",
        "colab_type": "text"
      },
      "source": [
        "<a href=\"https://colab.research.google.com/github/JustineKateAlbero/OOP-1-1/blob/main/GUI.ipynb\" target=\"_parent\"><img src=\"https://colab.research.google.com/assets/colab-badge.svg\" alt=\"Open In Colab\"/></a>"
      ]
    },
    {
      "cell_type": "code",
      "execution_count": 34,
      "metadata": {
        "id": "mlyVUWoxvVN6",
        "outputId": "6fedb5b6-3c60-4fa5-a171-abdc97ffada8",
        "colab": {
          "base_uri": "https://localhost:8080/"
        }
      },
      "outputs": [
        {
          "output_type": "stream",
          "name": "stdout",
          "text": [
            "My prelim grade is 10\n",
            "My midterm grade is 20\n",
            "My final grade is 30\n",
            "My semestral grade is 20.0\n",
            "My birthdate is 2022-04-07\n"
          ]
        }
      ],
      "source": [
        "#@title Students' Grade in OOP\n",
        "variable_name = \"Justine Kate P. Albero\"#@param {type:\"string\"}\n",
        "prelim = 90 #@param {type:\"integer\"} \n",
        "midterm =  95#@param {type:\"integer\"} \n",
        "final =  97#@param {type:\"integer\"} \n",
        "semestral_grade = round((prelim + midterm + final)/3,2)\n",
        "\n",
        "print(\"My prelim grade is \" + str(prelim))\n",
        "print(\"My midterm grade is \" + str(midterm))\n",
        "print(\"My final grade is \" + str(final))\n",
        "\n",
        "print(\"My semestral grade is \" + str(semestral_grade))\n",
        "\n",
        "Gender = \"Female\" #@param{\"Male\",\"Female\"}\n",
        "BirthDate = '2002-10-05' #@param {type: \"date\"}\n",
        "\n",
        "print(\"My birthdate is \" + BirthDate)"
      ]
    },
    {
      "cell_type": "markdown",
      "source": [
        "Tkinter module - pycharm"
      ],
      "metadata": {
        "id": "tjR1zMxK6ZqY"
      }
    }
  ]
}